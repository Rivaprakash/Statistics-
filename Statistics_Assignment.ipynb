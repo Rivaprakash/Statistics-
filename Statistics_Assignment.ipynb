{
  "nbformat": 4,
  "nbformat_minor": 0,
  "metadata": {
    "colab": {
      "provenance": []
    },
    "kernelspec": {
      "name": "python3",
      "display_name": "Python 3"
    },
    "language_info": {
      "name": "python"
    }
  },
  "cells": [
    {
      "cell_type": "markdown",
      "source": [
        "1. Explain the different types of data (qualitative and quantitative) and provide examples of each. Discuss nominal, ordinal, interval, and ratio scales.\n",
        "\n",
        "Ans- The different types of data are:\n",
        "\n",
        "Qualitative (Categorical) Data:\n",
        "\n",
        "It describes qualities or characteristics.Example: Colors of cars (Red, Blue, Black).\n",
        "\n",
        "Types:\n",
        "\n",
        " * Nominal: No order, just categories (e.g., eye color: brown, blue).\n",
        "\n",
        " * Ordinal: Categories with a meaningful order (e.g., education level: High School < Bachelor's < Master's).\n",
        "\n",
        "Quantitative (Numerical) Data:\n",
        "\n",
        "It represents numbers and can be measured.Example: Age, height, temperature.\n",
        "\n",
        "Types:\n",
        " * Interval: No true zero, differences matter (e.g., temperature in Celsius).\n",
        "\n",
        " * Ratio: Has a true zero, ratios make sense (e.g., weight, height)."
      ],
      "metadata": {
        "id": "swRpVoNOl6EW"
      }
    },
    {
      "cell_type": "markdown",
      "source": [
        "2. What are the measures of central tendency, and when should you use each? Discuss the mean, median, and mode with examples and situations where each is appropriate.\n",
        "\n",
        "Ans- It represents the single value of the entire distribution or a dataset.\n",
        "\n",
        "* Mean (Average):\n",
        "\n",
        "The sum of all the values in the dataset divided by the number of values.\n",
        "\n",
        "Mean = Total value of the items/ Number of items\n",
        "\n",
        "Example: 1+2+3+4+5/5 = 15/5= 3\n",
        "\n",
        "* Median:\n",
        "\n",
        "It is the middle value of the dataset in which the dataset is arranged in the ascending order or in descending order.\n",
        "\n",
        "Median= (N+1)/2\n",
        "\n",
        "Example: 2,5,3,6,8,7,10,9,12,1,15\n",
        "\n",
        "1,2,3,5,6,7,8,9,10,13,15 (Sort the data first)\n",
        "\n",
        "(11+1)/2 = 12/2 = 6th\n",
        "\n",
        "size of 6th item = 7\n",
        "\n",
        "* Mode:\n",
        "\n",
        "It represents the frequently occurring value in the dataset.\n",
        "\n",
        "Example: 2,3,1,4,1,4,4,2,5,6,4\n",
        "\n",
        "Mode = 4\n"
      ],
      "metadata": {
        "id": "1vt2eiFQmBtQ"
      }
    },
    {
      "cell_type": "markdown",
      "source": [
        " 3. Explain the concept of dispersion. How do variance and standard deviation measure the spread of data?\n",
        "\n",
        "Ans-The degree to which numerical data tend to spread about an average value is called variation or dispersion of data.\n",
        "\n",
        "* Variance:\n",
        "\n",
        "It measures how far data points are from the mean (average).\n",
        "\n",
        "Higher variance = more spread out data.\n",
        "\n",
        "Formula: Average of squared differences from the mean.\n",
        "\n",
        "* Standard Deviation (SD):\n",
        "\n",
        "Square root of variance.\n",
        "\n",
        "Shows how much data deviates from the mean in original units.\n",
        "\n",
        "Lower SD = data is close to the mean, higher SD = more spread out."
      ],
      "metadata": {
        "id": "8-2kNHkSnSMN"
      }
    },
    {
      "cell_type": "markdown",
      "source": [
        "4. What is a box plot, and what can it tell you about the distribution of data?\n",
        "\n",
        "Ans- A box plot is a graph that shows how data is distributed. It displays:\n",
        "\n",
        "* Minimum (smallest value)\n",
        "* First quartile (Q1) (25% of data is below this)\n",
        "* Median (Q2) (middle value)\n",
        "* Third quartile (Q3) (75% of data is below this)\n",
        "* Maximum (largest value)\n",
        "* Outliers (unusual values far from most data)\n",
        "\n",
        "It tells about:\n",
        "* Spread of the data (range, IQR).\n",
        "* Symmetry or skewness (if the median is centered).\n",
        "* Outliers (points far from the box)."
      ],
      "metadata": {
        "id": "jxJpLapYoP6L"
      }
    },
    {
      "cell_type": "markdown",
      "source": [
        "5. Discuss the role of random sampling in making inferences about populations.\n",
        "\n",
        "Ans- Sampling allows researchers to use a small group from a larger population to make observations and determinations.\n",
        "\n",
        "* Random sampling:\n",
        "It is a method of sampling in which each and every item of the universe has equal chance of being selected in the sample.\n",
        "\n",
        "Advantage:\n",
        "* Free from personal bias.\n",
        "* Fairly represented by samples.\n",
        "\n",
        "Disadvantage:\n",
        "* Does not give weightage to certain important items.\n",
        "* Does not guarantee proportionate representation of different items.\n",
        "\n"
      ],
      "metadata": {
        "id": "7CUy4kjzp91o"
      }
    },
    {
      "cell_type": "markdown",
      "source": [
        "6. Explain the concept of skewness and its types. How does skewness affect the interpretation of data?\n",
        "\n",
        "Ans- Skewness shows whether data is symmetrical or tilted to one side.\n",
        "\n",
        "* Symmetrical (No Skew):\n",
        "\n",
        "-> Data is evenly spread around the mean.\n",
        "\n",
        "-> Example: Heights of adults in a population.\n",
        "\n",
        "* Positive Skew (Right Skew):\n",
        "\n",
        "-> Tail is longer on the right, meaning more small values and few large ones.\n",
        "Mean > Median\n",
        "\n",
        "-> Example: Salaries (most earn low, few earn very high).\n",
        "\n",
        "* Negative Skew (Left Skew):\n",
        "\n",
        "-> Tail is longer on the left, meaning more large values and few small ones.\n",
        "Mean < Median\n",
        "\n",
        "->Example: Exam scores (most score high, few score very low).\n",
        "\n",
        "Interpretation:\n",
        "\n",
        "-> Skewness helps understand data trends and outliers.\n",
        "\n",
        "-> In positively skewed data, the average (mean) is pulled up by large values.\n",
        "\n",
        "-> In negatively skewed data, the average is pulled down by small values."
      ],
      "metadata": {
        "id": "rzaHaDrYqBpq"
      }
    },
    {
      "cell_type": "markdown",
      "source": [
        "7. What is the interquartile range (IQR), and how is it used to detect outliers?\n",
        "\n",
        "Ans- IQR measures the spread of the middle 50% of data.\n",
        "\n",
        "IQR = Q3 - Q1\n",
        "\n",
        "How IQR Detects Outliers\n",
        "* Lower Bound: Q1 - (1.5 × IQR)\n",
        "* Upper Bound: Q3 + (1.5 × IQR)\n",
        "\n",
        "Outliers are values outside these bounds."
      ],
      "metadata": {
        "id": "TODV4HqDqEQ1"
      }
    },
    {
      "cell_type": "markdown",
      "source": [
        "8. Discuss the conditions under which the binomial distribution is used.\n",
        "\n",
        "Ans- The binomial distribution is used when an experiment meets certain conditions:\n",
        "\n",
        "* Fixed number of trials (n):\n",
        "\n",
        "-> The experiment is repeated a set number of times.\n",
        "\n",
        "-> Example: Tossing a coin 10 times.\n",
        "\n",
        "* Only Two Outcomes (Success or Failure):\n",
        "\n",
        "-> Each trial has only two possible results (e.g., Win/Lose, Yes/No).\n",
        "\n",
        "-> Example: A student passes or fails an exam.\n",
        "\n",
        "* Constant Probability (p):\n",
        "\n",
        "-> The chance of success stays the same in all trials.\n",
        "\n",
        "-> Example: A fair coin always has a 50% chance of landing heads.\n",
        "\n",
        "* Independent Trials:\n",
        "\n",
        "-> The result of one trial does not affect the next.\n",
        "\n",
        "-> Example: Tossing a coin—one flip doesn't change the outcome of the next."
      ],
      "metadata": {
        "id": "YaHlK2LkqH9E"
      }
    },
    {
      "cell_type": "markdown",
      "source": [
        "9. Explain the properties of the normal distribution and the empirical rule (68-95-99.7 rule).\n",
        "\n",
        "Ans- Properties of Normal Distribution:\n",
        "* Bell-shaped curve → Most values are around the mean.\n",
        "* Symmetrical → Left and right halves are equal.\n",
        "* Mean = Median = Mode → All are in the center.\n",
        "* Follows the Empirical Rule (68-95-99.7 Rule).\n",
        "\n",
        "Empirical Rule (68-95-99.7 Rule):\n",
        "\n",
        "In a normal distribution, data falls within:\n",
        "\n",
        "* 68% → Within 1 standard deviation (σ) of the mean.\n",
        "* 95% → Within 2 standard deviations (σ) of the mean.\n",
        "* 99.7% → Within 3 standard deviations (σ) of the mean."
      ],
      "metadata": {
        "id": "QBN0IWnPqLpe"
      }
    },
    {
      "cell_type": "markdown",
      "source": [
        "10. Provide a real-life example of a Poisson process and calculate the probability for a specific event.\n",
        "\n",
        "Ans- A Poisson process models events that happen randomly over time at a constant rate.\n",
        "\n",
        "Example:\n",
        "A Poisson process models random events over time, like customer calls at a bank. If a bank gets 3 calls per minute, the probability of receiving exactly 5 calls is 10.1%, using the Poisson formula:\n",
        "\n",
        "𝑃(5)=𝑒−335/5!≈0.1009"
      ],
      "metadata": {
        "id": "d2sNVARvqNIX"
      }
    },
    {
      "cell_type": "markdown",
      "source": [
        "11. Explain what a random variable is and differentiate between discrete and continuous random variables.\n",
        "\n",
        "Ans- A random variable is a value that comes from a random event. It can change based on chance.\n",
        "\n",
        "* Discrete Random Variable:\n",
        "\n",
        "-> Takes countable values (whole numbers).\n",
        "\n",
        "-> Example: Number of students in a class (10, 20, 30).\n",
        "\n",
        "* Continuous Random Variable:\n",
        "\n",
        "-> Takes any value within a range (decimals possible).\n",
        "\n",
        "-> Example: Height of students (150.5 cm, 160.2 cm)."
      ],
      "metadata": {
        "id": "iKiaXUsVqRX-"
      }
    },
    {
      "cell_type": "code",
      "source": [
        "#12. Provide an example dataset, calculate both covariance and correlation, and interpret the results.\n",
        "# New example dataset: Advertising Budget (X) vs Sales (Y)\n",
        "import numpy as np\n",
        "X = np.array([10, 20, 30, 40, 50])  # Advertising Budget (in $1000s)\n",
        "Y = np.array([15, 25, 35, 45, 60])  # Sales (in $1000s)\n",
        "\n",
        "# Create a DataFrame for better visualization\n",
        "import pandas as pd\n",
        "data = pd.DataFrame({'Ad Budget ($1000s)': X, 'Sales ($1000s)': Y})\n",
        "\n",
        "# Calculate Covariance\n",
        "covariance = np.cov(X, Y, ddof=0)[0, 1]\n",
        "\n",
        "# Calculate Correlation\n",
        "correlation = np.corrcoef(X, Y)[0, 1]\n",
        "\n",
        "covariance, correlation\n"
      ],
      "metadata": {
        "colab": {
          "base_uri": "https://localhost:8080/"
        },
        "id": "nFH3Iku-zfP_",
        "outputId": "dc48ebf9-323a-46b2-f634-c9669ff450a9"
      },
      "execution_count": 5,
      "outputs": [
        {
          "output_type": "execute_result",
          "data": {
            "text/plain": [
              "(220.0, 0.995893206467704)"
            ]
          },
          "metadata": {},
          "execution_count": 5
        }
      ]
    }
  ]
}